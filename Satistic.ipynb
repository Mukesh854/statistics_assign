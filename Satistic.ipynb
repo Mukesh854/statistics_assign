{
 "cells": [
  {
   "cell_type": "markdown",
   "id": "37355a34-8b37-417b-95e5-24689f674a3a",
   "metadata": {},
   "source": [
    "#Satistics\n"
   ]
  },
  {
   "cell_type": "markdown",
   "id": "e1e58f0b-4ad2-4c26-aa3f-e2efbe8bd996",
   "metadata": {},
   "source": [
    "Q1. What is Statistics?"
   ]
  },
  {
   "cell_type": "markdown",
   "id": "d687a4fd-100b-4763-b0d4-81f533ee0a84",
   "metadata": {},
   "source": [
    "statistics is the science of collecting , organizing and analyzing data."
   ]
  },
  {
   "cell_type": "markdown",
   "id": "a3ce1d02-ec06-4694-95ad-d040b9cf62e4",
   "metadata": {},
   "source": [
    "Q2. Define the different types of statistics and give an example of when each type might be used."
   ]
  },
  {
   "cell_type": "markdown",
   "id": "8bb1b1ed-d09e-461f-b4e6-b3cb531d3f31",
   "metadata": {},
   "source": [
    "1) Discriptive staticstics\n",
    "It consists of organinzing and summerizing data.\n",
    "1\n",
    "1) Measure of central tendency.\n",
    ".Mean , median , mode\n",
    "\n",
    "2) Measure of dispersion.\n",
    "\n",
    ".Varaible\n",
    ".standard daviation\n",
    "\n",
    "3) Different type of distribution of data.\n",
    "\n",
    "\n",
    "2) Inferential statistics\n",
    "def:- It consists of using data you have measured to form conclusion.\n",
    "\n",
    ".Z-test\n",
    ".t-test\n",
    ".CHI square\n",
    ".Hypothenis testing\n"
   ]
  },
  {
   "cell_type": "markdown",
   "id": "53df7e14-7194-4667-bc37-b917c0601737",
   "metadata": {},
   "source": [
    "Q3. What are the different types of data and how do they differ from each other? Provide an example of\n",
    "each type of data."
   ]
  },
  {
   "cell_type": "markdown",
   "id": "79457bb3-0e61-4c76-8aea-02b1c63754a8",
   "metadata": {},
   "source": [
    "There are two types of data.\n",
    "\n",
    "1) Quantitative   2)Qualitative\n",
    "\n",
    "1)Quantitative\n",
    "\n",
    ".Discrete data:- Discrete data can only take specific, separate values within a defined range.\n",
    "\n",
    "eg:- no. of bank accounts\n",
    "     no. of students in classroom.\n",
    "\n",
    ".Continous data :- COntinous data can take any value within a given range.\n",
    "\n",
    "eg:- Height , weight , temperature , speed.\n",
    "\n",
    "2)Quanlitative \n",
    "\n",
    ".Nominal data :- Nominal data consists of categories or labels with no inherent order or ranking.\n",
    "\n",
    "eg:- Colors of cars\n",
    "     bloodgroup of childrens\n",
    "     pincode of different areas\n",
    "     \n",
    ".Ordinal data :- Ordinal data consists of categorical data with a specific order or ranking.\n",
    "\n",
    "eg:- customers feedback on a products\n"
   ]
  },
  {
   "cell_type": "markdown",
   "id": "0e019131-44cf-43ce-ba1d-83d3bfb0db9a",
   "metadata": {},
   "source": [
    "Q4. Categorise the following datasets with respect to quantitative and qualitative data types:\n",
    "(i) Grading in exam: A+, A, B+, B, C+, C, D, E\n",
    "(ii) Colour of mangoes: yellow, green, orange, red\n",
    "(iii) Height data of a class: [178.9, 179, 179.5, 176, 177.2, 178.3, 175.8,...]\n",
    "(iv) Number of mangoes exported by a farm: [500, 600, 478, 672, ...]"
   ]
  },
  {
   "cell_type": "markdown",
   "id": "cc9c2a06-0d61-43f8-974a-f1e0d741d004",
   "metadata": {},
   "source": [
    "#answers of this question \n",
    "1) The first one is ordinal data of qualitative data.\n",
    "\n",
    "2) The second is nominal data of qualitative data.\n",
    "\n",
    "3) The third is continous data of quantitative data.\n",
    "\n",
    "4) The fourth is discrete data of quantitative data."
   ]
  },
  {
   "cell_type": "markdown",
   "id": "c52b59be-0b93-4d6b-87da-0a10419193bc",
   "metadata": {},
   "source": [
    "Q5. Explain the concept of levels of measurement and give an example of a variable for each level."
   ]
  },
  {
   "cell_type": "markdown",
   "id": "aace60fc-dafb-4a70-940f-3f353cf06122",
   "metadata": {},
   "source": [
    "1) Nominal scale data:- Nominal data consists of categories or labels with no inherent order or ranking.\n",
    "\n",
    "eg:- Colors of cars, bloodgroup of childrens , pincode of different areas. \n",
    "\n",
    "2) Ordinal scale data:- Ordinal data consists of categorical data with a specific order or ranking.\n",
    "\n",
    "eg:- Customers feedback on a product.\n",
    "     Education level(high school, bachelor's, master's, PhD)\n",
    "     \n",
    "3) Interval scale data:- At the interval level, the differences between values are meaningful and consistent, but there is no true \"zero\" point. This means that you can't make meaningful statements about ratios between values.\n",
    "\n",
    "eg:- Temperature \n",
    "\n",
    "4) Ratio scale data:-Data at the ratio level have all the properties of interval data, but they also have a true \"zero\" point, which allows for meaningful ratios between values. This is the highest level of measurement.\n",
    "\n",
    "eg:- height of student in a classrooom , weight of apples(1 kg ,0.5kg , 2.5kg )  \n",
    "\n",
    " \n",
    "\n"
   ]
  },
  {
   "cell_type": "markdown",
   "id": "2443036b-7ad4-4f1e-8310-d05338ee92ee",
   "metadata": {},
   "source": [
    "Q6. Why is it important to understand the level of measurement when analyzing data? Provide an\n",
    "example to illustrate your answer."
   ]
  },
  {
   "cell_type": "markdown",
   "id": "4a71f5b7-49b5-4add-ab22-7d2a4ee71165",
   "metadata": {},
   "source": [
    "Understanding the level of measurement of data is crucial when analyzing data because it determines the types of statistical analyses and operations that are appropriate to apply to the data. Different levels of measurement have varying mathematical properties and implications for the kind of insights and conclusions that can be drawn from the data. Failing to consider the level of measurement can lead to incorrect interpretations, flawed analyses, and misleading conclusions.\n",
    "\n",
    "Let's illustrate this with an example:\n",
    "\n",
    "Suppose we are analyzing data from a survey that asks participants to rate their satisfaction with a product on a scale of 1 to 5, where 1 indicates \"very dissatisfied\" and 5 indicates \"very satisfied.\"\n",
    "\n",
    "If we treat this data as nominal:\n",
    "We might assign arbitrary numerical values (e.g., 1 for \"very dissatisfied,\" 2 for \"dissatisfied,\" etc.). However, these values are not meaningful in terms of arithmetic operations, as there is no inherent order or numerical relationship between the categories. Treating the data as nominal would mean we can only perform basic counts and percentages, without any meaningful interpretation of averages or differences between categories.\n",
    "\n",
    "If we treat this data as ordinal:\n",
    "We acknowledge the ranking and order of the responses, allowing us to calculate the median, percentiles, and mode. However, we still cannot perform arithmetic operations on the data or assume that the difference between a rating of 2 and 3 is the same as between 4 and 5. The ordinal nature limits the extent of analysis we can perform.\n",
    "\n",
    "If we treat this data as interval:\n",
    "We might consider performing arithmetic operations, such as calculating the mean (average) satisfaction level. However, the interval nature of the data assumes that the differences between the ratings are consistent and meaningful. This might not be accurate, as the difference between a 4 and 5 might not be the same as between 2 and 3 in terms of perceived satisfaction.\n",
    "\n",
    "If we treat this data as ratio:\n",
    "Here, we could calculate the mean, median, mode, and perform various arithmetic operations. We could also make meaningful statements about ratios, such as \"participants who rated the product 4 were twice as satisfied as those who rated it 2.\"\n",
    "\n",
    "In this example, understanding the level of measurement is essential. Treating ordinal or interval data as if it were ratio data could lead to misinterpretations and inappropriate conclusions. Similarly, assuming nominal data has a meaningful numerical relationship could lead to erroneous statistical analysis. Accurate analysis requires choosing appropriate methods based on the level of measurement to ensure the validity of conclusions drawn from the data.\n",
    "\n",
    "\n",
    "\n",
    "\n"
   ]
  },
  {
   "cell_type": "markdown",
   "id": "4663b8ab-03fc-47b1-bdc8-6c6bc6040302",
   "metadata": {},
   "source": [
    "Q7.How nominal data type is different from ordinal data type."
   ]
  },
  {
   "cell_type": "markdown",
   "id": "94fa90af-e694-4296-8eea-822674f0b958",
   "metadata": {},
   "source": [
    "Nominal data type is different  from ordinal data type because in nominal data ranking and order are not matter but in ordinal data ranking and orders are matters the most."
   ]
  },
  {
   "cell_type": "markdown",
   "id": "142d6884-693f-42f7-a767-2459fc6d85f7",
   "metadata": {},
   "source": [
    "Q8. Which type of plot can be used to display data in terms of range?"
   ]
  },
  {
   "cell_type": "markdown",
   "id": "d23dd604-9ec9-4950-9a68-c93595b78e9c",
   "metadata": {},
   "source": [
    "A type of plot that can be used to display data in terms of range is a box plot (also known as a box-and-whisker plot). A box plot provides a visual representation of the distribution of a dataset by showing the median, quartiles, and potential outliers."
   ]
  },
  {
   "cell_type": "markdown",
   "id": "0a38d604-2641-4420-bf0a-f9ec59c87281",
   "metadata": {},
   "source": [
    "Q9. Describe the difference between descriptive and inferential statistics. Give an example of each\n",
    "type of statistics and explain how they are used."
   ]
  },
  {
   "cell_type": "markdown",
   "id": "be4885ca-9b91-4190-a47d-9e1e5cb6bdf3",
   "metadata": {},
   "source": [
    "Descriptive Statistics:\n",
    "Descriptive statistics involve summarizing and describing the main features of a dataset. These statistics provide a clear and concise overview of the data's characteristics without making any inferences or drawing conclusions beyond the data itself.\n",
    "\n",
    "Example: Let's say you have a dataset of exam scores for a class of students. Descriptive statistics would involve calculating measures such as the mean (average) score, the median (middle value), the standard deviation (measure of data spread), and the minimum and maximum scores. These statistics provide insights into the overall performance of the class and the spread of scores.\n",
    "\n",
    "Inferential Statistics:\n",
    "Inferential statistics involve drawing conclusions or making predictions about a larger population based on a sample of data from that population. This involves using probability theory and sampling techniques to make educated guesses about characteristics of the entire population.\n",
    "\n",
    "Example: Imagine you want to determine the average height of all adults in a country. It's impractical to measure the height of every adult, so you collect data from a representative sample of adults. Using inferential statistics, you can estimate the population's average height with a certain level of confidence. Confidence intervals, hypothesis testing, and regression analysis are common tools in inferential statistics."
   ]
  },
  {
   "cell_type": "markdown",
   "id": "4305a824-c091-4750-8ae8-a9ab00e61bfe",
   "metadata": {},
   "source": [
    "Q10. What are some common measures of central tendency and variability used in statistics? Explain\n",
    "how each measure can be used to describe a dataset."
   ]
  },
  {
   "cell_type": "markdown",
   "id": "38873f19-246b-4746-98cc-e54a6c1cce7e",
   "metadata": {},
   "source": [
    "Measures of Central Tendency:\n",
    "\n",
    "Mean: The mean is the average value of a dataset and is calculated by summing up all the values and dividing by the number of values. It provides a measure of the \"typical\" value in the dataset.\n",
    "\n",
    "Median: The median is the middle value in a dataset when it's arranged in ascending or descending order. It's less affected by outliers compared to the mean and gives a sense of the central value of the data.\n",
    "\n",
    "Mode: The mode is the value that appears most frequently in the dataset. It's useful for identifying the most common value or category in the data.\n",
    "\n",
    "Measures of Variability:\n",
    "\n",
    "Range: The range is the difference between the maximum and minimum values in a dataset. It provides a simple measure of the spread of data, but it's sensitive to extreme values and doesn't capture the distribution well.\n",
    "\n",
    "Variance: Variance measures the average squared deviation of each data point from the mean. A higher variance indicates greater variability in the dataset. However, the variance is in squared units, which might be less intuitive."
   ]
  }
 ],
 "metadata": {
  "kernelspec": {
   "display_name": "Python 3 (ipykernel)",
   "language": "python",
   "name": "python3"
  },
  "language_info": {
   "codemirror_mode": {
    "name": "ipython",
    "version": 3
   },
   "file_extension": ".py",
   "mimetype": "text/x-python",
   "name": "python",
   "nbconvert_exporter": "python",
   "pygments_lexer": "ipython3",
   "version": "3.10.8"
  }
 },
 "nbformat": 4,
 "nbformat_minor": 5
}
